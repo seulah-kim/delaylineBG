{
 "cells": [
  {
   "cell_type": "markdown",
   "metadata": {},
   "source": [
    "## Demonstration of three-layer feedforward inhibition model"
   ]
  },
  {
   "cell_type": "code",
   "execution_count": 17,
   "metadata": {},
   "outputs": [
    {
     "name": "stderr",
     "output_type": "stream",
     "text": [
      "\u001b[0;31mConversion to double from cell is not possible.\n",
      "\n",
      "\u001b[0m"
     ]
    }
   ],
   "source": [
    "%Runs 3s simulation without any stimulus to measure steady-state values. \n",
    "[g_gp2snr] = BGdelayline_setinit2('I_exc_gp',60,'prob_syn_gp2snr',0.35); % initial conductance of gp to snr synapses \n",
    "\n",
    "clear spk_snr spk_gp spk_str\n",
    "dt=0.0001; % 0.1ms integration steps\n",
    "\n",
    "    parfor l =1:10\n",
    "        [Vm_gp, Vm_snr, Vm_str] = BGdelayline('stimCellsPer',10,'I_exc_snr',60,'I_exc_gp',60,...\n",
    "            'prob_syn_gp2snr',0.35,'g_gp2snr_i',g_gp2snr,'n',100,'connectivity','random'); % only SNr layer. 100 neurons\n",
    "        spk_snr{l,1} = Vm_snr==15;\n",
    "        spk_gp{l,1} = Vm_gp ==15;\n",
    "        spk_str{l,1} = Vm_str==15;\n",
    "    end\n",
    "    spk_str = double(cell2mat(spk_str));\n",
    "    spk_snr = double(cell2mat(spk_snr));\n",
    "    spk_gp = double(cell2mat(spk_gp));\n",
    "\n",
    "    binWidth = 100; % bin size, scale of 0.1ms\n",
    "\n",
    "    t_bar = 1:binWidth:length(spk_snr);\n",
    "    psth_str = zeros(1,length(t_bar));\n",
    "    psth_snr = zeros(1,length(t_bar));\n",
    "    psth_gp = zeros(1,length(t_bar));\n",
    "\n",
    "    for psth_i = 1:length(t_bar)-1\n",
    "        psth_str(psth_i) = sum(sum(spk_str(:,t_bar(psth_i):(t_bar(psth_i)+binWidth-1))));\n",
    "        psth_snr(psth_i) = sum(sum(spk_snr(:,t_bar(psth_i):(t_bar(psth_i)+binWidth-1))));\n",
    "        psth_gp(psth_i) = sum(sum(spk_gp(:,t_bar(psth_i):(t_bar(psth_i)+binWidth-1))));\n",
    "\n",
    "    end\n",
    "     \n",
    "figure\n",
    "subplot(6,1,1)\n",
    "plotRaster(spk_str)\n",
    "xlim([0.9 1.2])\n",
    "xticks([0.9 1 1.1 1.2])\n",
    "xticklabels({'-100','0','100','200'})\n",
    "\n",
    "subplot(6,1,2) \n",
    "bar((binWidth/2+t_bar-1)*0.0001,psth_str/(size(spk_str,1)*(binWidth*0.0001)))\n",
    "xlim([0.9 1.2])\n",
    "xticks([0.9 1 1.1 1.2])\n",
    "xticklabels({'-100','0','100','200'})\n",
    "%ylim([0 150])\n",
    "vline(1)\n",
    "ylabel('str PSTH (spikes/s)')\n",
    "xlabel('Time (ms)')\n",
    "\n",
    "subplot(6,1,3)\n",
    "plotRaster(spk_gp)\n",
    "xlim([0.9 1.2])\n",
    "xticks([0.9 1 1.1 1.2])\n",
    "xticklabels({'-100','0','100','200'})\n",
    "\n",
    "subplot(6,1,4) \n",
    "bar((binWidth/2+t_bar-1)*0.0001,psth_gp/(size(spk_gp,1)*(binWidth*0.0001)))\n",
    "xlim([0.9 1.2])\n",
    "xticks([0.9 1 1.1 1.2])\n",
    "xticklabels({'-100','0','100','200'})\n",
    "%ylim([0 150])\n",
    "vline(1)\n",
    "ylabel('gp PSTH (spikes/s)')\n",
    "xlabel('Time (ms)')\n",
    "\n",
    "subplot(6,1,5)\n",
    "plotRaster(spk_snr)\n",
    "xlim([0.9 1.2])\n",
    "xticks([0.9 1 1.1 1.2])\n",
    "xticklabels({'-100','0','100','200'})\n",
    "\n",
    "subplot(6,1,6) \n",
    "bar((binWidth/2+t_bar-1)*0.0001,psth_snr/(size(spk_snr,1)*(binWidth*0.0001)))\n",
    "xlim([0.9 1.2])\n",
    "xticks([0.9 1 1.1 1.2])\n",
    "xticklabels({'-100','0','100','200'})\n",
    "%ylim([0 150])\n",
    "vline(1)\n",
    "ylabel('snr PSTH (spikes/s)')\n",
    "xlabel('Time (ms)')\n"
   ]
  },
  {
   "cell_type": "code",
   "execution_count": null,
   "metadata": {
    "collapsed": true
   },
   "outputs": [],
   "source": []
  }
 ],
 "metadata": {
  "kernelspec": {
   "display_name": "Matlab",
   "language": "matlab",
   "name": "matlab"
  },
  "language_info": {
   "codemirror_mode": "octave",
   "file_extension": ".m",
   "help_links": [
    {
     "text": "MetaKernel Magics",
     "url": "https://github.com/calysto/metakernel/blob/master/metakernel/magics/README.md"
    }
   ],
   "mimetype": "text/x-matlab",
   "name": "matlab",
   "version": "0.14.3"
  }
 },
 "nbformat": 4,
 "nbformat_minor": 2
}
