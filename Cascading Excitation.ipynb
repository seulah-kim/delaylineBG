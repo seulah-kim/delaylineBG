{
 "cells": [
  {
   "cell_type": "code",
   "execution_count": null,
   "metadata": {
    "collapsed": true
   },
   "outputs": [],
   "source": [
    "GPe_input = 40:10:100; % pA, inhibitory\n",
    "for i = 1:length(GPe_input)\n",
    "%Runs 20s simulation without any stimulus to measure steady-state values. \n",
    "[g_gp2snr] = BGdelayline_setinit2('I_exc_gp',GPe_input(i),'prob_syn_gp2snr',0.35); % initial conductance of gp to snr synapses \n",
    "\n",
    "spk_gp = [];\n",
    "spk_snr=[];\n",
    "dt=0.0001; % 0.1ms integration steps\n",
    "\n",
    "for l =1:10\n",
    "[Vm_gp, Vm_snr] = BGdelayline_excitation('I_exc_snr',80,'I_exc_gp',GPe_input(i),'prob_syn_gp2snr',0.35,'g_gp2snr_i',g_gp2snr,'n',100,'connectivity','random'); % only SNr layer. 100 neurons\n",
    "spk_snr = [spk_snr; Vm_snr==15];\n",
    "spk_gp = [spk_gp ; Vm_gp ==15];\n",
    "end\n",
    "\n",
    "binWidth = 100; % bin size, scale of 0.1ms\n",
    "\n",
    "t_bar = 1:binWidth:length(spk_snr);\n",
    "psth_snr = zeros(1,length(t_bar));\n",
    "psth_gp = zeros(1,length(t_bar));\n",
    "\n",
    "for psth_i = 1:length(t_bar)-1\n",
    "\n",
    "    psth_snr(psth_i) = sum(sum(spk_snr(:,t_bar(psth_i):(t_bar(psth_i)+binWidth-1))));\n",
    "    psth_gp(psth_i) = sum(sum(spk_gp(:,t_bar(psth_i):(t_bar(psth_i)+binWidth-1))));\n",
    "    \n",
    "end\n",
    "\n",
    "figure(i)\n",
    "subplot(3,1,1)\n",
    "bar((binWidth/2+t_bar-1)*0.0001,psth_gp/(size(spk_gp,1)*(binWidth*0.0001)))\n",
    "ylabel('gp PSTH (spikes/s)')\n",
    "ylim([0 150])\n",
    "vline(1)\n",
    "xlim([0.9 1.2])\n",
    "xticks([0.9 1 1.1 1.2])\n",
    "xticklabels({'-100','0','100','200'})\n",
    "title(sprintf('input to GPe: %d pA, net excitation to SNr = 80pA',GPe_input(i)))\n",
    "\n",
    "subplot(3,1,2)\n",
    "plotRaster(spk_snr);\n",
    "vline(1)\n",
    "ylabel('SNr cell')\n",
    "xlabel('')\n",
    "xlim([0.9 1.2])\n",
    "xticks([0.9 1 1.1 1.2])\n",
    "xticklabels({'-100','0','100','200'})\n",
    "\n",
    "\n",
    "subplot(3,1,3)\n",
    "bar((binWidth/2+t_bar-1)*0.0001,psth_snr/(size(spk_snr,1)*(binWidth*0.0001)))\n",
    "xlim([0.9 1.2])\n",
    "xticks([0.9 1 1.1 1.2])\n",
    "xticklabels({'-100','0','100','200'})\n",
    "ylim([0 150])\n",
    "vline(1)\n",
    "ylabel('snr PSTH (spikes/s)')\n",
    "xlabel('Time (ms)')\n",
    "end"
   ]
  }
 ],
 "metadata": {
  "kernelspec": {
   "display_name": "Matlab",
   "language": "matlab",
   "name": "matlab"
  },
  "language_info": {
   "codemirror_mode": "octave",
   "file_extension": ".m",
   "help_links": [
    {
     "text": "MetaKernel Magics",
     "url": "https://github.com/calysto/metakernel/blob/master/metakernel/magics/README.md"
    }
   ],
   "mimetype": "text/x-matlab",
   "name": "matlab",
   "version": "0.14.3"
  }
 },
 "nbformat": 4,
 "nbformat_minor": 2
}
